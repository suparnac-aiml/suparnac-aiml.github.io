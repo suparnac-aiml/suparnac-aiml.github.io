{
 "cells": [
  {
   "cell_type": "markdown",
   "id": "0ab1c7f7-43ac-4ae7-baee-e8dc5332e499",
   "metadata": {},
   "source": [
    "Generating the Synthetic Dataset:\n",
    "\n",
    "Defined ranges for each orbital type based on real-world satellite characteristics to generate a Synthetic Dataset\n",
    "\n",
    "This dataset includes realistic ranges for:\n",
    "\n",
    "- Altitude in km\n",
    "\n",
    "- Velocity in km/s\n",
    "\n",
    "- Inclination in degrees\n",
    "\n",
    "- Type of satellite: LEO, MEO, GEO "
   ]
  },
  {
   "cell_type": "code",
   "execution_count": null,
   "id": "6f458dc3-6a1a-4a1b-b4e2-0c45215374aa",
   "metadata": {},
   "outputs": [],
   "source": [
    "import pandas as pd\n",
    "import numpy as np\n",
    "import random"
   ]
  },
  {
   "cell_type": "code",
   "execution_count": null,
   "id": "c6ce0502-4b6e-4197-869b-40d06c07f09c",
   "metadata": {},
   "outputs": [],
   "source": [
    "orbital_types = {\n",
    "    'LEO': {\n",
    "        'altitude_km': (160, 2000),\n",
    "        'velocity_kmps': (6.9, 8.0),\n",
    "        'inclination_deg': (0, 180)\n",
    "    },\n",
    "    'MEO': {\n",
    "        'altitude_km': (2000, 35785),\n",
    "        'velocity_kmps': (3.0, 6.8),\n",
    "        'inclination_deg': (0, 70)\n",
    "    },\n",
    "    'GEO': {\n",
    "        'altitude_km': (35785, 35786),\n",
    "        'velocity_kmps': (3.07, 3.09),\n",
    "        'inclination_deg': (0, 5)\n",
    "    }\n",
    "}\n"
   ]
  },
  {
   "cell_type": "code",
   "execution_count": null,
   "id": "f2ad2dfc-2116-4c85-a2ce-437d8b070373",
   "metadata": {},
   "outputs": [],
   "source": [
    "samples_per_type = {\n",
    "    'LEO': 500,\n",
    "    'MEO': 300,\n",
    "    'GEO': 200\n",
    "}\n"
   ]
  },
  {
   "cell_type": "code",
   "execution_count": null,
   "id": "02b9de92-5678-4d44-ace8-ecaa3a64ea30",
   "metadata": {},
   "outputs": [],
   "source": [
    "# Generate synthetic data\n",
    "data = []\n",
    "\n",
    "for sat_type, count in samples_per_type.items():\n",
    "    for _ in range(count):\n",
    "        altitude = round(random.uniform(*orbital_types[sat_type]['altitude_km']), 2)\n",
    "        velocity = round(random.uniform(*orbital_types[sat_type]['velocity_kmps']), 2)\n",
    "        inclination = round(random.uniform(*orbital_types[sat_type]['inclination_deg']), 2)\n",
    "        data.append([altitude, velocity, inclination, sat_type])\n"
   ]
  },
  {
   "cell_type": "code",
   "execution_count": null,
   "id": "edb540d2-9aeb-4039-9d55-35fe95912bcb",
   "metadata": {},
   "outputs": [],
   "source": [
    "# Convert to DataFrame\n",
    "df = pd.DataFrame(data, columns=['altitude_km', 'velocity_kmps', 'inclination_deg', 'type_of_satellite'])\n",
    "\n",
    "# Save as CSV\n",
    "csv_path = \"/Users/suparnac/dev_envs/CV_Projects/Orbital_Type_Classifier/satellite_orbital_classification_dataset.csv\"\n",
    "df.to_csv(csv_path, index=False)\n",
    "\n",
    "csv_path"
   ]
  },
  {
   "cell_type": "markdown",
   "id": "39394f31-6283-47cc-a611-1d46b03de508",
   "metadata": {},
   "source": [
    "NOW, let's analyze this generated/Synthetic dataset which is an imbalance dataset "
   ]
  },
  {
   "cell_type": "code",
   "execution_count": null,
   "id": "1145b3f0-75b5-42a3-8b1e-03778cbfb99e",
   "metadata": {},
   "outputs": [],
   "source": [
    "df = pd.read_csv('/Users/suparnac/dev_envs/CV_Projects/Orbital_Type_Classifier/satellite_orbital_classification_dataset.csv')\n",
    "print(df.head(3))"
   ]
  },
  {
   "cell_type": "code",
   "execution_count": null,
   "id": "ea38db2b-a0d0-44fc-b609-a819f356ee95",
   "metadata": {},
   "outputs": [],
   "source": [
    "print(df['type_of_satellite'].value_counts())  # Check for imbalance"
   ]
  },
  {
   "cell_type": "code",
   "execution_count": null,
   "id": "0cb488dd-57d8-4ccd-98bb-0e96e962174a",
   "metadata": {},
   "outputs": [],
   "source": [
    "from sklearn.model_selection import train_test_split\n",
    "from sklearn.preprocessing import StandardScaler"
   ]
  },
  {
   "cell_type": "code",
   "execution_count": null,
   "id": "7ffebf4a-dfad-4e60-b2b4-1e370c52a3ba",
   "metadata": {},
   "outputs": [],
   "source": [
    "# Encode class labels LEo as 0, MEO as 1, and GEO as 2\n",
    "df['type_encoded'] = df['type_of_satellite'].map({'LEO': 0, 'MEO': 1, 'GEO': 2})\n",
    "\n",
    "X = df[['altitude_km', 'velocity_kmps', 'inclination_deg']]\n",
    "y = df['type_encoded']"
   ]
  },
  {
   "cell_type": "code",
   "execution_count": null,
   "id": "bd3a3991-9fbe-4069-9cc8-0b5f7d5bc154",
   "metadata": {},
   "outputs": [],
   "source": [
    "# Split for train and test\n",
    "X_train, X_test, y_train, y_test = train_test_split(X, y, test_size=0.2, stratify=y, random_state=42)\n"
   ]
  },
  {
   "cell_type": "code",
   "execution_count": null,
   "id": "1a748cb6-2b02-49a1-b2be-de8d455bd0b4",
   "metadata": {},
   "outputs": [],
   "source": [
    "# Scale\n",
    "scaler = StandardScaler() #creates an instance of the StandardScaler. The StandardScaler standardizes features by removing the mean and scaling to unit variance.\n",
    "X_train_scaled = scaler.fit_transform(X_train)\n",
    "X_test_scaled = scaler.transform(X_test)"
   ]
  },
  {
   "cell_type": "code",
   "execution_count": null,
   "id": "bdf3ea77-226b-493b-8601-ef6a4c54b187",
   "metadata": {},
   "outputs": [],
   "source": [
    "from sklearn.svm import SVC"
   ]
  },
  {
   "cell_type": "code",
   "execution_count": null,
   "id": "c9cec751-8833-41b7-9f91-62888d7ba310",
   "metadata": {},
   "outputs": [],
   "source": [
    "#Handle Class Imbalance using Class Weights\n",
    "\n",
    "model = SVC(class_weight='balanced')  # Automatically balances weights\n",
    "model.fit(X_train_scaled, y_train)\n"
   ]
  },
  {
   "cell_type": "code",
   "execution_count": null,
   "id": "9824e9de-7842-4d78-b81f-830ee9e86190",
   "metadata": {},
   "outputs": [],
   "source": [
    "from sklearn.metrics import classification_report, confusion_matrix"
   ]
  },
  {
   "cell_type": "code",
   "execution_count": null,
   "id": "1e1147b2-bc58-4fae-aab3-979f93a748ad",
   "metadata": {},
   "outputs": [],
   "source": [
    "#evaluate performance\n",
    "\n",
    "\n",
    "y_pred = model.predict(X_test_scaled)\n",
    "\n",
    "print(confusion_matrix(y_test, y_pred))\n",
    "print(classification_report(y_test, y_pred, target_names=['LEO', 'MEO', 'GEO']))\n"
   ]
  },
  {
   "cell_type": "code",
   "execution_count": null,
   "id": "0edcd70f-a1bf-41a2-b6a4-b523cad01175",
   "metadata": {},
   "outputs": [],
   "source": [
    "import seaborn as sns\n",
    "import matplotlib.pyplot as plt"
   ]
  },
  {
   "cell_type": "code",
   "execution_count": null,
   "id": "01bf299d-5256-43ff-94ed-a17db651be77",
   "metadata": {},
   "outputs": [],
   "source": [
    "#Visualize Class Separation\n",
    "\n",
    "df['type_encoded'] = y\n",
    "sns.pairplot(df, hue=\"type_of_satellite\", palette=\"Set2\")\n",
    "plt.suptitle(\"Class Distribution by Features\")\n",
    "plt.show()\n"
   ]
  },
  {
   "cell_type": "code",
   "execution_count": null,
   "id": "407f9457-f94c-418c-8c50-5c5a172afbee",
   "metadata": {},
   "outputs": [],
   "source": [
    "#save the model\n",
    "import joblib\n",
    "\n",
    "joblib.dump(model, \"orbit_classifier_model.pkl\")\n",
    "joblib.dump(scaler, \"scaler.pkl\")\n"
   ]
  },
  {
   "cell_type": "code",
   "execution_count": null,
   "id": "6317718d-236b-447b-a1c2-83ada7892644",
   "metadata": {},
   "outputs": [],
   "source": []
  }
 ],
 "metadata": {
  "kernelspec": {
   "display_name": "Python (cv_env)",
   "language": "python",
   "name": "cv_env"
  },
  "language_info": {
   "codemirror_mode": {
    "name": "ipython",
    "version": 3
   },
   "file_extension": ".py",
   "mimetype": "text/x-python",
   "name": "python",
   "nbconvert_exporter": "python",
   "pygments_lexer": "ipython3",
   "version": "3.11.9"
  }
 },
 "nbformat": 4,
 "nbformat_minor": 5
}
